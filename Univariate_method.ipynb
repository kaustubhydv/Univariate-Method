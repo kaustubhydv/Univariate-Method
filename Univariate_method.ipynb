{
  "nbformat": 4,
  "nbformat_minor": 0,
  "metadata": {
    "colab": {
      "provenance": [],
      "authorship_tag": "ABX9TyO9CaPDrJxxs9NPKn/QARr+",
      "include_colab_link": true
    },
    "kernelspec": {
      "name": "python3",
      "display_name": "Python 3"
    },
    "language_info": {
      "name": "python"
    }
  },
  "cells": [
    {
      "cell_type": "markdown",
      "metadata": {
        "id": "view-in-github",
        "colab_type": "text"
      },
      "source": [
        "<a href=\"https://colab.research.google.com/github/kaustubhydv/Univariate-Method/blob/main/Univariate_method.ipynb\" target=\"_parent\"><img src=\"https://colab.research.google.com/assets/colab-badge.svg\" alt=\"Open In Colab\"/></a>"
      ]
    },
    {
      "cell_type": "code",
      "execution_count": null,
      "metadata": {
        "id": "OmavkC7xVN4g"
      },
      "outputs": [],
      "source": [
        "from numpy import identity,array,dot,zeros,argmax\n",
        "from math import sqrt\n",
        "import numpy as np\n",
        "import math\n",
        "from numpy.linalg import inv,det\n",
        "import matplotlib.pyplot as plt\n",
        "import copy\n",
        "import matplotlib.pyplot as plt\n",
        "\n",
        "x0 = [0,0]\n",
        "epsilon = 10**-6\n",
        "NUM_ITER = 20\n",
        "h=0.1"
      ]
    },
    {
      "cell_type": "code",
      "source": [
        "def func(x_input):\n",
        "  y = x_input[0] - x_input[1] + 2*(x_input[0]**2) + 2*x_input[0]*x_input[1] + x_input[1]**2\n",
        "  #y =  (x_input[0]-1)**2 + (x_input[1]-1)**2 - x_input[0]*x_input[1]\n",
        "  return y"
      ],
      "metadata": {
        "id": "WOLPVrFLVXKQ"
      },
      "execution_count": null,
      "outputs": []
    },
    {
      "cell_type": "code",
      "source": [
        "def univariate(func, x_initial) :\n",
        "    x_history = []\n",
        "    f_history = []\n",
        "\n",
        "    S1 = [1,0]\n",
        "    S2 = [0,1]\n",
        "    S1 = np.asarray(S1)\n",
        "    S2 = np.asarray(S2)\n",
        "    x_initial = np.asarray(x_initial)\n",
        "    x_history.append(x_initial)\n",
        "    f_initial = func(x_initial)\n",
        "    _\n",
        "\n",
        "    for i in range(NUM_ITER):\n",
        "      xk = None\n",
        "      if i%2==0 :\n",
        "        probe = 0.01\n",
        "        f1 = func(x_history[-1])\n",
        "        f2 = func((x_history[-1] + probe*S1))\n",
        "        f3 = func((x_history[-1] - probe*S1))\n",
        "        idx = np.argmin([f1,f2,f3])\n",
        "        if idx == 0:\n",
        "          xk = x_history[-1]\n",
        "        if idx == 1:\n",
        "          xk = x_history[-1] + S1*(((2*x_history[-1][1] +1)/4)+x_history[-1][0])\n",
        "        if idx == 2:\n",
        "          xk = x_history[-1] - S1*(((2*x_history[-1][1] +1)/4)+x_history[-1][0])  \n",
        "        x_history.append(xk)\n",
        "\n",
        "      if i%2==1 :\n",
        "        probe = 0.01\n",
        "        f1 = func(x_history[-1])\n",
        "        f2 = func((x_history[-1] + probe*S2))\n",
        "        f3 = func((x_history[-1] - probe*S2))\n",
        "        idx = np.argmin([f1,f2,f3])\n",
        "        if idx == 0:\n",
        "          xk = x_history[-1]\n",
        "        if idx == 1:\n",
        "          xk = x_history[-1] - S2*((((2*x_history[-1][0])-1)/2)+x_history[-1][1])\n",
        "        if idx == 2:\n",
        "          xk = x_history[-1] + S2*((((2*x_history[-1][0])-1)/2)+x_history[-1][1])  \n",
        "        x_history.append(xk)\n",
        "\n",
        "      if i>2:\n",
        "        if abs(x_history[-1][0] - x_history[-2][0]) <= epsilon and abs(x_history[-1][1] - x_history[-2][1]) <= epsilon:\n",
        "          break\n",
        "\n",
        "    return x_history"
      ],
      "metadata": {
        "id": "6Dz_c9IsVkL0"
      },
      "execution_count": null,
      "outputs": []
    }
  ]
}